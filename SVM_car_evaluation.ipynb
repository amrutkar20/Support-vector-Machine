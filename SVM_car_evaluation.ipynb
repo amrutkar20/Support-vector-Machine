{
 "cells": [
  {
   "cell_type": "markdown",
   "metadata": {},
   "source": [
    "### Introduction to Support Vector Machines \n",
    "\n",
    "\n",
    "Support Vector Machines (SVMs in short) are machine learning algorithms that are used for classification and regression purposes. SVMs are one of the powerful machine learning algorithms for classification, regression and outlier detection purposes. An SVM classifier builds a model that assigns new data points to one of the given categories. Thus, it can be viewed as a non-probabilistic binary linear classifier.\n",
    "\n",
    "The original SVM algorithm was developed by Vladimir N Vapnik and Alexey Ya. Chervonenkis in 1963. At that time, the algorithm was in early stages. The only possibility is to draw hyperplanes for linear classifier. In 1992, Bernhard E. Boser, Isabelle M Guyon and Vladimir N Vapnik suggested a way to create non-linear classifiers by applying the kernel trick to maximum-margin hyperplanes. The current standard was proposed by Corinna Cortes and Vapnik in 1993 and published in 1995.\n",
    "\n",
    "SVMs can be used for linear classification purposes. In addition to performing linear classification, SVMs can efficiently perform a non-linear classification using the kernel trick. It enable us to implicitly map the inputs into high dimensional feature spaces."
   ]
  },
  {
   "cell_type": "markdown",
   "metadata": {},
   "source": [
    "### Support Vector Machines intuition "
   ]
  },
  {
   "cell_type": "markdown",
   "metadata": {},
   "source": [
    "### Hyperplane\n",
    "A hyperplane is a decision boundary which separates between given set of data points having different class labels. The SVM classifier separates data points using a hyperplane with the maximum amount of margin. This hyperplane is known as the maximum margin hyperplane and the linear classifier it defines is known as the maximum margin classifier.\n",
    "\n"
   ]
  },
  {
   "cell_type": "markdown",
   "metadata": {},
   "source": [
    "### Support Vectors\n",
    "Support vectors are the sample data points, which are closest to the hyperplane. These data points will define the separating line or hyperplane better by calculating margins.\n",
    "\n"
   ]
  },
  {
   "cell_type": "markdown",
   "metadata": {},
   "source": [
    "### Margin\n",
    "A margin is a separation gap between the two lines on the closest data points. It is calculated as the perpendicular distance from the line to support vectors or closest data points. In SVMs, we try to maximize this separation gap so that we get maximum margin.\n",
    "\n"
   ]
  },
  {
   "cell_type": "markdown",
   "metadata": {},
   "source": [
    "### . Kernel trick \n",
    "\n",
    "In practice, SVM algorithm is implemented using a kernel. It uses a technique called the kernel trick. In simple words, a kernel is just a function that maps the data to a higher dimension where data is separable. A kernel transforms a low-dimensional input data space into a higher dimensional space. So, it converts non-linear separable problems to linear separable problems by adding more dimensions to it. Thus, the kernel trick helps us to build a more accurate classifier. Hence, it is useful in non-linear separation problems."
   ]
  },
  {
   "cell_type": "markdown",
   "metadata": {},
   "source": [
    "### Linear kernel\n",
    "In linear kernel, the kernel function takes the form of a linear function as follows-\n",
    "\n",
    "linear kernel : K(xi , xj ) = xiT xj\n",
    "\n",
    "Linear kernel is used when the data is linearly separable. It means that data can be separated using a single line. It is one of the most common kernels to be used. It is mostly used when there are large number of features in a dataset. Linear kernel is often used for text classification purposes.\n",
    "\n",
    "Training with a linear kernel is usually faster, because we only need to optimize the C regularization parameter. When training with other kernels, we also need to optimize the γ parameter. So, performing a grid search will usually take more time"
   ]
  },
  {
   "cell_type": "markdown",
   "metadata": {},
   "source": [
    "### Polynomial Kernel\n",
    "Polynomial kernel represents the similarity of vectors (training samples) in a feature space over polynomials of the original variables. The polynomial kernel looks not only at the given features of input samples to determine their similarity, but also combinations of the input samples.\n",
    "\n",
    "For degree-d polynomials, the polynomial kernel is defined as follows –\n",
    "\n",
    "Polynomial kernel : K(xi , xj ) = (γxiT xj + r)d , γ > 0\n",
    "\n",
    "Polynomial kernel is very popular in Natural Language Processing. The most common degree is d = 2 (quadratic), since larger degrees tend to overfit on NLP problems."
   ]
  },
  {
   "cell_type": "markdown",
   "metadata": {},
   "source": [
    "### Radial Basis Function Kernel\n",
    "Radial basis function kernel is a general purpose kernel. It is used when we have no prior knowledge about the data."
   ]
  },
  {
   "cell_type": "markdown",
   "metadata": {},
   "source": [
    "### Sigmoid kernel\n",
    "Sigmoid kernel has its origin in neural networks. We can use it as the proxy for neural networks. Sigmoid kernel is given by the following equation –\n",
    "\n",
    "sigmoid kernel : k (x, y) = tanh(αxTy + c)"
   ]
  },
  {
   "cell_type": "markdown",
   "metadata": {},
   "source": [
    "### SVM Scikit-Learn libraries ¶\n",
    "Table of Contents\n",
    "\n",
    "Scikit-Learn provides useful libraries to implement Support Vector Machine algorithm on a dataset. There are many libraries that can help us to implement SVM smoothly. We just need to call the library with parameters that suit to our needs. In this project, I am dealing with a classification task. So, I will mention the Scikit-Learn libraries for SVM classification purposes.\n",
    "\n",
    "First, there is a LinearSVC() classifier. As the name suggests, this classifier uses only linear kernel. In LinearSVC() classifier, we don’t pass the value of kernel since it is used only for linear classification purposes.\n",
    "\n",
    "Scikit-Learn provides two other classifiers - SVC() and NuSVC() which are used for classification purposes. These classifiers are mostly similar with some difference in parameters. NuSVC() is similar to SVC() but uses a parameter to control the number of support vectors. We pass the values of kernel, gamma and C along with other parameters. By default kernel parameter uses rbf as its value but we can pass values like poly, linear, sigmoid or callable function"
   ]
  },
  {
   "cell_type": "markdown",
   "metadata": {},
   "source": [
    " \n",
    "\n",
    "### Attribute Information:\n",
    "Each candidate is described by 8 continuous variables, and a single class variable. The first four are simple statistics obtained from the integrated pulse profile. The remaining four variables are similarly obtained from the DM-SNR curve . These are summarised below:\n",
    "\n",
    "Mean of the integrated profile.\n",
    "\n",
    "Standard deviation of the integrated profile.\n",
    "\n",
    "Excess kurtosis of the integrated profile.\n",
    "\n",
    "Skewness of the integrated profile.\n",
    "\n",
    "Mean of the DM-SNR curve.\n",
    "\n",
    "Standard deviation of the DM-SNR curve.\n",
    "\n",
    "Excess kurtosis of the DM-SNR curve.\n",
    "\n",
    "Skewness of the DM-SNR curve.\n",
    "\n",
    "Class"
   ]
  },
  {
   "cell_type": "markdown",
   "metadata": {},
   "source": [
    "### Import libraries"
   ]
  },
  {
   "cell_type": "code",
   "execution_count": 4,
   "metadata": {
    "_cell_guid": "b1076dfc-b9ad-4769-8c92-a6c4dae69d19",
    "_uuid": "8f2839f25d086af736a60e9eeb907d3b93b6e0e5",
    "execution": {
     "iopub.execute_input": "2020-10-02T11:55:57.634961Z",
     "iopub.status.busy": "2020-10-02T11:55:57.634108Z",
     "iopub.status.idle": "2020-10-02T11:55:57.659474Z",
     "shell.execute_reply": "2020-10-02T11:55:57.658614Z"
    },
    "papermill": {
     "duration": 0.062735,
     "end_time": "2020-10-02T11:55:57.659676",
     "exception": false,
     "start_time": "2020-10-02T11:55:57.596941",
     "status": "completed"
    },
    "tags": []
   },
   "outputs": [],
   "source": [
    "# This Python 3 environment comes with many helpful analytics libraries installed\n",
    "# It is defined by the kaggle/python Docker image: https://github.com/kaggle/docker-python\n",
    "# For example, here's several helpful packages to load\n",
    "\n",
    "import numpy as np # linear algebra\n",
    "import pandas as pd # data processing, CSV file I/O (e.g. pd.read_csv)\n",
    "\n",
    "# Input data files are available in the read-only \"../input/\" directory\n",
    "# For example, running this (by clicking run or pressing Shift+Enter) will list all files under the input directory\n"
   ]
  },
  {
   "cell_type": "markdown",
   "metadata": {
    "papermill": {
     "duration": 0.026777,
     "end_time": "2020-10-02T11:55:57.715545",
     "exception": false,
     "start_time": "2020-10-02T11:55:57.688768",
     "status": "completed"
    },
    "tags": []
   },
   "source": [
    "## Support Vector Machines - Nonlinear Classification\n",
    "### with GridSearch"
   ]
  },
  {
   "cell_type": "markdown",
   "metadata": {
    "papermill": {
     "duration": 0.026557,
     "end_time": "2020-10-02T11:55:57.770856",
     "exception": false,
     "start_time": "2020-10-02T11:55:57.744299",
     "status": "completed"
    },
    "tags": []
   },
   "source": [
    "### All needed imports for this notebook"
   ]
  },
  {
   "cell_type": "code",
   "execution_count": 5,
   "metadata": {
    "execution": {
     "iopub.execute_input": "2020-10-02T11:55:57.833304Z",
     "iopub.status.busy": "2020-10-02T11:55:57.832469Z",
     "iopub.status.idle": "2020-10-02T11:55:59.147465Z",
     "shell.execute_reply": "2020-10-02T11:55:59.146656Z"
    },
    "papermill": {
     "duration": 1.349718,
     "end_time": "2020-10-02T11:55:59.147639",
     "exception": false,
     "start_time": "2020-10-02T11:55:57.797921",
     "status": "completed"
    },
    "tags": []
   },
   "outputs": [],
   "source": [
    "import pandas as pd\n",
    "pd.options.display.max_colwidth = 80\n",
    "\n",
    "from sklearn.model_selection import train_test_split\n",
    "from sklearn.preprocessing import OrdinalEncoder\n",
    "\n",
    "from sklearn.svm import SVC # SVM model with kernels\n",
    "from sklearn.model_selection import GridSearchCV\n",
    "\n",
    "from sklearn.metrics import accuracy_score\n",
    "\n",
    "from sklearn.metrics import confusion_matrix\n",
    "from sklearn.metrics import classification_report\n",
    "\n",
    "import warnings\n",
    "warnings.filterwarnings('ignore')"
   ]
  },
  {
   "cell_type": "markdown",
   "metadata": {
    "papermill": {
     "duration": 0.027757,
     "end_time": "2020-10-02T11:55:59.203015",
     "exception": false,
     "start_time": "2020-10-02T11:55:59.175258",
     "status": "completed"
    },
    "tags": []
   },
   "source": [
    "#### Fetching Data"
   ]
  },
  {
   "cell_type": "code",
   "execution_count": 8,
   "metadata": {
    "_cell_guid": "79c7e3d0-c299-4dcb-8224-4455121ee9b0",
    "_uuid": "d629ff2d2480ee46fbb7e2d37f6b5fab8052498a",
    "execution": {
     "iopub.execute_input": "2020-10-02T11:55:59.269201Z",
     "iopub.status.busy": "2020-10-02T11:55:59.268423Z",
     "iopub.status.idle": "2020-10-02T11:55:59.295200Z",
     "shell.execute_reply": "2020-10-02T11:55:59.294142Z"
    },
    "papermill": {
     "duration": 0.064574,
     "end_time": "2020-10-02T11:55:59.295354",
     "exception": false,
     "start_time": "2020-10-02T11:55:59.230780",
     "status": "completed"
    },
    "tags": []
   },
   "outputs": [],
   "source": [
    "data = (r\"C:\\Users\\PRATHAMESH\\Desktop\\(CSD4207)Data Science Practical - III (Machine Learning using R)\\ASSIGNMENTS\\car_evaluation.csv\")\n",
    "\n",
    "header_list = ['buying', 'maint', 'doors', 'persons', 'lug_boot', 'safety', 'class value']\n",
    "\n",
    "cars = pd.read_csv(data, names=header_list, index_col=None)"
   ]
  },
  {
   "cell_type": "markdown",
   "metadata": {
    "papermill": {
     "duration": 0.027309,
     "end_time": "2020-10-02T11:55:59.349977",
     "exception": false,
     "start_time": "2020-10-02T11:55:59.322668",
     "status": "completed"
    },
    "tags": []
   },
   "source": [
    "### Exploring Data"
   ]
  },
  {
   "cell_type": "code",
   "execution_count": 9,
   "metadata": {
    "execution": {
     "iopub.execute_input": "2020-10-02T11:55:59.423826Z",
     "iopub.status.busy": "2020-10-02T11:55:59.415584Z",
     "iopub.status.idle": "2020-10-02T11:55:59.437248Z",
     "shell.execute_reply": "2020-10-02T11:55:59.436478Z"
    },
    "papermill": {
     "duration": 0.058993,
     "end_time": "2020-10-02T11:55:59.437385",
     "exception": false,
     "start_time": "2020-10-02T11:55:59.378392",
     "status": "completed"
    },
    "tags": []
   },
   "outputs": [
    {
     "data": {
      "text/html": [
       "<div>\n",
       "<style scoped>\n",
       "    .dataframe tbody tr th:only-of-type {\n",
       "        vertical-align: middle;\n",
       "    }\n",
       "\n",
       "    .dataframe tbody tr th {\n",
       "        vertical-align: top;\n",
       "    }\n",
       "\n",
       "    .dataframe thead th {\n",
       "        text-align: right;\n",
       "    }\n",
       "</style>\n",
       "<table border=\"1\" class=\"dataframe\">\n",
       "  <thead>\n",
       "    <tr style=\"text-align: right;\">\n",
       "      <th></th>\n",
       "      <th>buying</th>\n",
       "      <th>maint</th>\n",
       "      <th>doors</th>\n",
       "      <th>persons</th>\n",
       "      <th>lug_boot</th>\n",
       "      <th>safety</th>\n",
       "      <th>class value</th>\n",
       "    </tr>\n",
       "  </thead>\n",
       "  <tbody>\n",
       "    <tr>\n",
       "      <th>0</th>\n",
       "      <td>vhigh</td>\n",
       "      <td>vhigh</td>\n",
       "      <td>2</td>\n",
       "      <td>2</td>\n",
       "      <td>small</td>\n",
       "      <td>low</td>\n",
       "      <td>unacc</td>\n",
       "    </tr>\n",
       "    <tr>\n",
       "      <th>1</th>\n",
       "      <td>vhigh</td>\n",
       "      <td>vhigh</td>\n",
       "      <td>2</td>\n",
       "      <td>2</td>\n",
       "      <td>small</td>\n",
       "      <td>med</td>\n",
       "      <td>unacc</td>\n",
       "    </tr>\n",
       "    <tr>\n",
       "      <th>2</th>\n",
       "      <td>vhigh</td>\n",
       "      <td>vhigh</td>\n",
       "      <td>2</td>\n",
       "      <td>2</td>\n",
       "      <td>small</td>\n",
       "      <td>high</td>\n",
       "      <td>unacc</td>\n",
       "    </tr>\n",
       "    <tr>\n",
       "      <th>3</th>\n",
       "      <td>vhigh</td>\n",
       "      <td>vhigh</td>\n",
       "      <td>2</td>\n",
       "      <td>2</td>\n",
       "      <td>med</td>\n",
       "      <td>low</td>\n",
       "      <td>unacc</td>\n",
       "    </tr>\n",
       "    <tr>\n",
       "      <th>4</th>\n",
       "      <td>vhigh</td>\n",
       "      <td>vhigh</td>\n",
       "      <td>2</td>\n",
       "      <td>2</td>\n",
       "      <td>med</td>\n",
       "      <td>med</td>\n",
       "      <td>unacc</td>\n",
       "    </tr>\n",
       "  </tbody>\n",
       "</table>\n",
       "</div>"
      ],
      "text/plain": [
       "  buying  maint doors persons lug_boot safety class value\n",
       "0  vhigh  vhigh     2       2    small    low       unacc\n",
       "1  vhigh  vhigh     2       2    small    med       unacc\n",
       "2  vhigh  vhigh     2       2    small   high       unacc\n",
       "3  vhigh  vhigh     2       2      med    low       unacc\n",
       "4  vhigh  vhigh     2       2      med    med       unacc"
      ]
     },
     "execution_count": 9,
     "metadata": {},
     "output_type": "execute_result"
    }
   ],
   "source": [
    "cars.head()"
   ]
  },
  {
   "cell_type": "code",
   "execution_count": 10,
   "metadata": {
    "execution": {
     "iopub.execute_input": "2020-10-02T11:55:59.509916Z",
     "iopub.status.busy": "2020-10-02T11:55:59.509015Z",
     "iopub.status.idle": "2020-10-02T11:55:59.566899Z",
     "shell.execute_reply": "2020-10-02T11:55:59.566036Z"
    },
    "papermill": {
     "duration": 0.10134,
     "end_time": "2020-10-02T11:55:59.567063",
     "exception": false,
     "start_time": "2020-10-02T11:55:59.465723",
     "status": "completed"
    },
    "tags": []
   },
   "outputs": [
    {
     "data": {
      "text/html": [
       "<div>\n",
       "<style scoped>\n",
       "    .dataframe tbody tr th:only-of-type {\n",
       "        vertical-align: middle;\n",
       "    }\n",
       "\n",
       "    .dataframe tbody tr th {\n",
       "        vertical-align: top;\n",
       "    }\n",
       "\n",
       "    .dataframe thead th {\n",
       "        text-align: right;\n",
       "    }\n",
       "</style>\n",
       "<table border=\"1\" class=\"dataframe\">\n",
       "  <thead>\n",
       "    <tr style=\"text-align: right;\">\n",
       "      <th></th>\n",
       "      <th>buying</th>\n",
       "      <th>maint</th>\n",
       "      <th>doors</th>\n",
       "      <th>persons</th>\n",
       "      <th>lug_boot</th>\n",
       "      <th>safety</th>\n",
       "      <th>class value</th>\n",
       "    </tr>\n",
       "  </thead>\n",
       "  <tbody>\n",
       "    <tr>\n",
       "      <th>count</th>\n",
       "      <td>1728</td>\n",
       "      <td>1728</td>\n",
       "      <td>1728</td>\n",
       "      <td>1728</td>\n",
       "      <td>1728</td>\n",
       "      <td>1728</td>\n",
       "      <td>1728</td>\n",
       "    </tr>\n",
       "    <tr>\n",
       "      <th>unique</th>\n",
       "      <td>4</td>\n",
       "      <td>4</td>\n",
       "      <td>4</td>\n",
       "      <td>3</td>\n",
       "      <td>3</td>\n",
       "      <td>3</td>\n",
       "      <td>4</td>\n",
       "    </tr>\n",
       "    <tr>\n",
       "      <th>top</th>\n",
       "      <td>vhigh</td>\n",
       "      <td>vhigh</td>\n",
       "      <td>2</td>\n",
       "      <td>2</td>\n",
       "      <td>small</td>\n",
       "      <td>low</td>\n",
       "      <td>unacc</td>\n",
       "    </tr>\n",
       "    <tr>\n",
       "      <th>freq</th>\n",
       "      <td>432</td>\n",
       "      <td>432</td>\n",
       "      <td>432</td>\n",
       "      <td>576</td>\n",
       "      <td>576</td>\n",
       "      <td>576</td>\n",
       "      <td>1210</td>\n",
       "    </tr>\n",
       "  </tbody>\n",
       "</table>\n",
       "</div>"
      ],
      "text/plain": [
       "       buying  maint doors persons lug_boot safety class value\n",
       "count    1728   1728  1728    1728     1728   1728        1728\n",
       "unique      4      4     4       3        3      3           4\n",
       "top     vhigh  vhigh     2       2    small    low       unacc\n",
       "freq      432    432   432     576      576    576        1210"
      ]
     },
     "execution_count": 10,
     "metadata": {},
     "output_type": "execute_result"
    }
   ],
   "source": [
    "cars.describe()"
   ]
  },
  {
   "cell_type": "code",
   "execution_count": 11,
   "metadata": {
    "execution": {
     "iopub.execute_input": "2020-10-02T11:55:59.642316Z",
     "iopub.status.busy": "2020-10-02T11:55:59.641200Z",
     "iopub.status.idle": "2020-10-02T11:55:59.647701Z",
     "shell.execute_reply": "2020-10-02T11:55:59.647024Z"
    },
    "papermill": {
     "duration": 0.051646,
     "end_time": "2020-10-02T11:55:59.647832",
     "exception": false,
     "start_time": "2020-10-02T11:55:59.596186",
     "status": "completed"
    },
    "tags": []
   },
   "outputs": [
    {
     "name": "stdout",
     "output_type": "stream",
     "text": [
      "<class 'pandas.core.frame.DataFrame'>\n",
      "RangeIndex: 1728 entries, 0 to 1727\n",
      "Data columns (total 7 columns):\n",
      " #   Column       Non-Null Count  Dtype \n",
      "---  ------       --------------  ----- \n",
      " 0   buying       1728 non-null   object\n",
      " 1   maint        1728 non-null   object\n",
      " 2   doors        1728 non-null   object\n",
      " 3   persons      1728 non-null   object\n",
      " 4   lug_boot     1728 non-null   object\n",
      " 5   safety       1728 non-null   object\n",
      " 6   class value  1728 non-null   object\n",
      "dtypes: object(7)\n",
      "memory usage: 94.6+ KB\n"
     ]
    },
    {
     "data": {
      "text/plain": [
       "(None, (1728, 7))"
      ]
     },
     "execution_count": 11,
     "metadata": {},
     "output_type": "execute_result"
    }
   ],
   "source": [
    "cars.info(), cars.shape"
   ]
  },
  {
   "cell_type": "markdown",
   "metadata": {
    "papermill": {
     "duration": 0.02975,
     "end_time": "2020-10-02T11:55:59.708151",
     "exception": false,
     "start_time": "2020-10-02T11:55:59.678401",
     "status": "completed"
    },
    "tags": []
   },
   "source": [
    "#### **Destribution frequency of values in each variable.** Judging by the output, *stratified sampling* is not needed since all data instances seem to be evenly good splitted"
   ]
  },
  {
   "cell_type": "code",
   "execution_count": 12,
   "metadata": {
    "execution": {
     "iopub.execute_input": "2020-10-02T11:55:59.788309Z",
     "iopub.status.busy": "2020-10-02T11:55:59.787149Z",
     "iopub.status.idle": "2020-10-02T11:55:59.793924Z",
     "shell.execute_reply": "2020-10-02T11:55:59.792994Z"
    },
    "papermill": {
     "duration": 0.055761,
     "end_time": "2020-10-02T11:55:59.794074",
     "exception": false,
     "start_time": "2020-10-02T11:55:59.738313",
     "status": "completed"
    },
    "tags": []
   },
   "outputs": [
    {
     "name": "stdout",
     "output_type": "stream",
     "text": [
      "vhigh    432\n",
      "high     432\n",
      "med      432\n",
      "low      432\n",
      "Name: buying, dtype: int64 \n",
      "\n",
      "vhigh    432\n",
      "high     432\n",
      "med      432\n",
      "low      432\n",
      "Name: maint, dtype: int64 \n",
      "\n",
      "2        432\n",
      "3        432\n",
      "4        432\n",
      "5more    432\n",
      "Name: doors, dtype: int64 \n",
      "\n",
      "2       576\n",
      "4       576\n",
      "more    576\n",
      "Name: persons, dtype: int64 \n",
      "\n",
      "small    576\n",
      "med      576\n",
      "big      576\n",
      "Name: lug_boot, dtype: int64 \n",
      "\n",
      "low     576\n",
      "med     576\n",
      "high    576\n",
      "Name: safety, dtype: int64 \n",
      "\n",
      "unacc    1210\n",
      "acc       384\n",
      "good       69\n",
      "vgood      65\n",
      "Name: class value, dtype: int64 \n",
      "\n"
     ]
    }
   ],
   "source": [
    "for column in cars.columns:\n",
    "    print(cars[column].value_counts(), '\\n') "
   ]
  },
  {
   "cell_type": "markdown",
   "metadata": {
    "papermill": {
     "duration": 0.030129,
     "end_time": "2020-10-02T11:55:59.854653",
     "exception": false,
     "start_time": "2020-10-02T11:55:59.824524",
     "status": "completed"
    },
    "tags": []
   },
   "source": [
    "#### I had an idea that number of doors can somehow correlate with luggage capacity, but seems that *lug_boot* value does not depended on that"
   ]
  },
  {
   "cell_type": "markdown",
   "metadata": {
    "papermill": {
     "duration": 0.03397,
     "end_time": "2020-10-02T11:56:00.012743",
     "exception": false,
     "start_time": "2020-10-02T11:55:59.978773",
     "status": "completed"
    },
    "tags": []
   },
   "source": [
    "#### Feature and Target vectors"
   ]
  },
  {
   "cell_type": "code",
   "execution_count": 13,
   "metadata": {
    "execution": {
     "iopub.execute_input": "2020-10-02T11:56:00.097789Z",
     "iopub.status.busy": "2020-10-02T11:56:00.096562Z",
     "iopub.status.idle": "2020-10-02T11:56:00.102385Z",
     "shell.execute_reply": "2020-10-02T11:56:00.101741Z"
    },
    "papermill": {
     "duration": 0.054022,
     "end_time": "2020-10-02T11:56:00.102512",
     "exception": false,
     "start_time": "2020-10-02T11:56:00.048490",
     "status": "completed"
    },
    "tags": []
   },
   "outputs": [
    {
     "data": {
      "text/plain": [
       "(     buying  maint  doors persons lug_boot safety\n",
       " 0     vhigh  vhigh      2       2    small    low\n",
       " 1     vhigh  vhigh      2       2    small    med\n",
       " 2     vhigh  vhigh      2       2    small   high\n",
       " 3     vhigh  vhigh      2       2      med    low\n",
       " 4     vhigh  vhigh      2       2      med    med\n",
       " ...     ...    ...    ...     ...      ...    ...\n",
       " 1723    low    low  5more    more      med    med\n",
       " 1724    low    low  5more    more      med   high\n",
       " 1725    low    low  5more    more      big    low\n",
       " 1726    low    low  5more    more      big    med\n",
       " 1727    low    low  5more    more      big   high\n",
       " \n",
       " [1728 rows x 6 columns],\n",
       " 0       unacc\n",
       " 1       unacc\n",
       " 2       unacc\n",
       " 3       unacc\n",
       " 4       unacc\n",
       "         ...  \n",
       " 1723     good\n",
       " 1724    vgood\n",
       " 1725    unacc\n",
       " 1726     good\n",
       " 1727    vgood\n",
       " Name: class value, Length: 1728, dtype: object)"
      ]
     },
     "execution_count": 13,
     "metadata": {},
     "output_type": "execute_result"
    }
   ],
   "source": [
    "X = cars.drop(['class value'], axis=1)\n",
    "y = cars['class value']\n",
    "\n",
    "X, y"
   ]
  },
  {
   "cell_type": "code",
   "execution_count": 14,
   "metadata": {
    "execution": {
     "iopub.execute_input": "2020-10-02T11:56:00.174590Z",
     "iopub.status.busy": "2020-10-02T11:56:00.173816Z",
     "iopub.status.idle": "2020-10-02T11:56:00.178892Z",
     "shell.execute_reply": "2020-10-02T11:56:00.178203Z"
    },
    "papermill": {
     "duration": 0.044619,
     "end_time": "2020-10-02T11:56:00.179029",
     "exception": false,
     "start_time": "2020-10-02T11:56:00.134410",
     "status": "completed"
    },
    "tags": []
   },
   "outputs": [],
   "source": [
    "X_train, X_test, y_train, y_test = train_test_split(X, y, test_size = 0.4, random_state = 42)"
   ]
  },
  {
   "cell_type": "code",
   "execution_count": 15,
   "metadata": {
    "execution": {
     "iopub.execute_input": "2020-10-02T11:56:00.250291Z",
     "iopub.status.busy": "2020-10-02T11:56:00.249330Z",
     "iopub.status.idle": "2020-10-02T11:56:00.254294Z",
     "shell.execute_reply": "2020-10-02T11:56:00.253524Z"
    },
    "papermill": {
     "duration": 0.043059,
     "end_time": "2020-10-02T11:56:00.254420",
     "exception": false,
     "start_time": "2020-10-02T11:56:00.211361",
     "status": "completed"
    },
    "tags": []
   },
   "outputs": [
    {
     "data": {
      "text/plain": [
       "((1036, 6), (692, 6))"
      ]
     },
     "execution_count": 15,
     "metadata": {},
     "output_type": "execute_result"
    }
   ],
   "source": [
    "X_train.shape, X_test.shape"
   ]
  },
  {
   "cell_type": "code",
   "execution_count": 16,
   "metadata": {
    "execution": {
     "iopub.execute_input": "2020-10-02T11:56:00.328598Z",
     "iopub.status.busy": "2020-10-02T11:56:00.327534Z",
     "iopub.status.idle": "2020-10-02T11:56:00.332329Z",
     "shell.execute_reply": "2020-10-02T11:56:00.331710Z"
    },
    "papermill": {
     "duration": 0.04324,
     "end_time": "2020-10-02T11:56:00.332464",
     "exception": false,
     "start_time": "2020-10-02T11:56:00.289224",
     "status": "completed"
    },
    "tags": []
   },
   "outputs": [
    {
     "data": {
      "text/plain": [
       "((1036,), (692,))"
      ]
     },
     "execution_count": 16,
     "metadata": {},
     "output_type": "execute_result"
    }
   ],
   "source": [
    "y_train.shape, y_test.shape"
   ]
  },
  {
   "cell_type": "markdown",
   "metadata": {
    "papermill": {
     "duration": 0.032652,
     "end_time": "2020-10-02T11:56:00.399113",
     "exception": false,
     "start_time": "2020-10-02T11:56:00.366461",
     "status": "completed"
    },
    "tags": []
   },
   "source": [
    "### Encoding\n",
    "#### There are a limited number of possible values, each of which represents a category, which means that all the variables in dataset are of ordinal categorical data type. Most Machine Learning algorithms prefer to work with numbers, so let’s convert these categories from text to numbers. For this, we can use Scikit-Learn’s OrdinalEncoder class:"
   ]
  },
  {
   "cell_type": "code",
   "execution_count": 17,
   "metadata": {
    "execution": {
     "iopub.execute_input": "2020-10-02T11:56:00.473885Z",
     "iopub.status.busy": "2020-10-02T11:56:00.472754Z",
     "iopub.status.idle": "2020-10-02T11:56:00.477071Z",
     "shell.execute_reply": "2020-10-02T11:56:00.477680Z"
    },
    "papermill": {
     "duration": 0.045744,
     "end_time": "2020-10-02T11:56:00.477854",
     "exception": false,
     "start_time": "2020-10-02T11:56:00.432110",
     "status": "completed"
    },
    "tags": []
   },
   "outputs": [
    {
     "data": {
      "text/plain": [
       "[['buying', 'maint', 'doors', 'persons', 'lug_boot', 'safety', 'class value']]"
      ]
     },
     "execution_count": 17,
     "metadata": {},
     "output_type": "execute_result"
    }
   ],
   "source": [
    "columns_encode = []\n",
    "columns_encode.append(header_list)\n",
    "columns_encode"
   ]
  },
  {
   "cell_type": "code",
   "execution_count": 18,
   "metadata": {
    "execution": {
     "iopub.execute_input": "2020-10-02T11:56:00.561651Z",
     "iopub.status.busy": "2020-10-02T11:56:00.557607Z",
     "iopub.status.idle": "2020-10-02T11:56:00.565773Z",
     "shell.execute_reply": "2020-10-02T11:56:00.564958Z"
    },
    "papermill": {
     "duration": 0.054275,
     "end_time": "2020-10-02T11:56:00.565908",
     "exception": false,
     "start_time": "2020-10-02T11:56:00.511633",
     "status": "completed"
    },
    "tags": []
   },
   "outputs": [],
   "source": [
    "ordinal_encoder = OrdinalEncoder()\n",
    "\n",
    "X_train = ordinal_encoder.fit_transform(X_train, columns_encode)\n",
    "X_test = ordinal_encoder.transform(X_test)"
   ]
  },
  {
   "cell_type": "code",
   "execution_count": 19,
   "metadata": {
    "execution": {
     "iopub.execute_input": "2020-10-02T11:56:00.645086Z",
     "iopub.status.busy": "2020-10-02T11:56:00.644139Z",
     "iopub.status.idle": "2020-10-02T11:56:00.649700Z",
     "shell.execute_reply": "2020-10-02T11:56:00.648993Z"
    },
    "papermill": {
     "duration": 0.049849,
     "end_time": "2020-10-02T11:56:00.649843",
     "exception": false,
     "start_time": "2020-10-02T11:56:00.599994",
     "status": "completed"
    },
    "tags": []
   },
   "outputs": [
    {
     "data": {
      "text/plain": [
       "(array([[0., 0., 2., 2., 1., 1.],\n",
       "        [3., 2., 2., 2., 0., 1.],\n",
       "        [0., 2., 2., 1., 2., 2.],\n",
       "        ...,\n",
       "        [0., 1., 3., 2., 1., 0.],\n",
       "        [1., 0., 2., 0., 2., 2.],\n",
       "        [2., 2., 1., 2., 2., 2.]]),\n",
       " (1036, 6))"
      ]
     },
     "execution_count": 19,
     "metadata": {},
     "output_type": "execute_result"
    }
   ],
   "source": [
    "X_train, X_train.shape"
   ]
  },
  {
   "cell_type": "code",
   "execution_count": 20,
   "metadata": {
    "execution": {
     "iopub.execute_input": "2020-10-02T11:56:00.727929Z",
     "iopub.status.busy": "2020-10-02T11:56:00.726993Z",
     "iopub.status.idle": "2020-10-02T11:56:00.732476Z",
     "shell.execute_reply": "2020-10-02T11:56:00.731849Z"
    },
    "papermill": {
     "duration": 0.048128,
     "end_time": "2020-10-02T11:56:00.732632",
     "exception": false,
     "start_time": "2020-10-02T11:56:00.684504",
     "status": "completed"
    },
    "tags": []
   },
   "outputs": [
    {
     "data": {
      "text/plain": [
       "(615     unacc\n",
       " 294     unacc\n",
       " 712     unacc\n",
       " 1720      acc\n",
       " 88      unacc\n",
       "         ...  \n",
       " 1130    vgood\n",
       " 1294     good\n",
       " 860       acc\n",
       " 1459    unacc\n",
       " 1126      acc\n",
       " Name: class value, Length: 1036, dtype: object,\n",
       " (1036,))"
      ]
     },
     "execution_count": 20,
     "metadata": {},
     "output_type": "execute_result"
    }
   ],
   "source": [
    "y_train, y_train.shape"
   ]
  },
  {
   "cell_type": "markdown",
   "metadata": {
    "papermill": {
     "duration": 0.034764,
     "end_time": "2020-10-02T11:56:00.802617",
     "exception": false,
     "start_time": "2020-10-02T11:56:00.767853",
     "status": "completed"
    },
    "tags": []
   },
   "source": [
    "#### Using GridSearch to find the best hyperparameters"
   ]
  },
  {
   "cell_type": "code",
   "execution_count": 21,
   "metadata": {
    "execution": {
     "iopub.execute_input": "2020-10-02T11:56:00.881274Z",
     "iopub.status.busy": "2020-10-02T11:56:00.880221Z",
     "iopub.status.idle": "2020-10-02T11:56:00.883041Z",
     "shell.execute_reply": "2020-10-02T11:56:00.883659Z"
    },
    "papermill": {
     "duration": 0.0461,
     "end_time": "2020-10-02T11:56:00.883858",
     "exception": false,
     "start_time": "2020-10-02T11:56:00.837758",
     "status": "completed"
    },
    "tags": []
   },
   "outputs": [],
   "source": [
    "param_grid = [{'kernel': ['poly'], 'C' : [3, 5, 7, 9, 10]},\n",
    "             {'kernel' : ['rbf'], 'C' : [3, 5, 7, 9, 10], 'gamma' : [2, 4, 6, 8]}]\n",
    "\n",
    "svm = SVC()"
   ]
  },
  {
   "cell_type": "code",
   "execution_count": 22,
   "metadata": {
    "execution": {
     "iopub.execute_input": "2020-10-02T11:56:00.967601Z",
     "iopub.status.busy": "2020-10-02T11:56:00.966406Z",
     "iopub.status.idle": "2020-10-02T11:56:14.855266Z",
     "shell.execute_reply": "2020-10-02T11:56:14.854505Z"
    },
    "papermill": {
     "duration": 13.936017,
     "end_time": "2020-10-02T11:56:14.855395",
     "exception": false,
     "start_time": "2020-10-02T11:56:00.919378",
     "status": "completed"
    },
    "tags": []
   },
   "outputs": [
    {
     "data": {
      "text/plain": [
       "GridSearchCV(estimator=SVC(),\n",
       "             param_grid=[{'C': [3, 5, 7, 9, 10], 'kernel': ['poly']},\n",
       "                         {'C': [3, 5, 7, 9, 10], 'gamma': [2, 4, 6, 8],\n",
       "                          'kernel': ['rbf']}],\n",
       "             return_train_score=True)"
      ]
     },
     "execution_count": 22,
     "metadata": {},
     "output_type": "execute_result"
    }
   ],
   "source": [
    "grid_search = GridSearchCV(svm, param_grid, return_train_score=True)\n",
    "\n",
    "grid_search.fit(X_train, y_train)"
   ]
  },
  {
   "cell_type": "markdown",
   "metadata": {
    "papermill": {
     "duration": 0.036549,
     "end_time": "2020-10-02T11:56:14.928170",
     "exception": false,
     "start_time": "2020-10-02T11:56:14.891621",
     "status": "completed"
    },
    "tags": []
   },
   "source": [
    "#### Estimated best hyperparameters for SVM"
   ]
  },
  {
   "cell_type": "code",
   "execution_count": 23,
   "metadata": {
    "execution": {
     "iopub.execute_input": "2020-10-02T11:56:15.011983Z",
     "iopub.status.busy": "2020-10-02T11:56:15.010466Z",
     "iopub.status.idle": "2020-10-02T11:56:15.016922Z",
     "shell.execute_reply": "2020-10-02T11:56:15.016015Z"
    },
    "papermill": {
     "duration": 0.052984,
     "end_time": "2020-10-02T11:56:15.017083",
     "exception": false,
     "start_time": "2020-10-02T11:56:14.964099",
     "status": "completed"
    },
    "tags": []
   },
   "outputs": [
    {
     "data": {
      "text/plain": [
       "{'C': 9, 'kernel': 'poly'}"
      ]
     },
     "execution_count": 23,
     "metadata": {},
     "output_type": "execute_result"
    }
   ],
   "source": [
    "grid_search.best_params_"
   ]
  },
  {
   "cell_type": "markdown",
   "metadata": {
    "papermill": {
     "duration": 0.03915,
     "end_time": "2020-10-02T11:56:15.097032",
     "exception": false,
     "start_time": "2020-10-02T11:56:15.057882",
     "status": "completed"
    },
    "tags": []
   },
   "source": [
    "#### GridSearcg estimated the best model to be with polynomial kernel of ninth degree"
   ]
  },
  {
   "cell_type": "code",
   "execution_count": 24,
   "metadata": {
    "execution": {
     "iopub.execute_input": "2020-10-02T11:56:15.177510Z",
     "iopub.status.busy": "2020-10-02T11:56:15.176747Z",
     "iopub.status.idle": "2020-10-02T11:56:15.180806Z",
     "shell.execute_reply": "2020-10-02T11:56:15.181387Z"
    },
    "papermill": {
     "duration": 0.048326,
     "end_time": "2020-10-02T11:56:15.181540",
     "exception": false,
     "start_time": "2020-10-02T11:56:15.133214",
     "status": "completed"
    },
    "tags": []
   },
   "outputs": [
    {
     "data": {
      "text/plain": [
       "SVC(C=9, kernel='poly')"
      ]
     },
     "execution_count": 24,
     "metadata": {},
     "output_type": "execute_result"
    }
   ],
   "source": [
    "grid_search.best_estimator_"
   ]
  },
  {
   "cell_type": "code",
   "execution_count": 25,
   "metadata": {
    "execution": {
     "iopub.execute_input": "2020-10-02T11:56:15.263122Z",
     "iopub.status.busy": "2020-10-02T11:56:15.262311Z",
     "iopub.status.idle": "2020-10-02T11:56:15.274209Z",
     "shell.execute_reply": "2020-10-02T11:56:15.273525Z"
    },
    "papermill": {
     "duration": 0.054853,
     "end_time": "2020-10-02T11:56:15.274340",
     "exception": false,
     "start_time": "2020-10-02T11:56:15.219487",
     "status": "completed"
    },
    "tags": []
   },
   "outputs": [
    {
     "data": {
      "text/plain": [
       "0.8815028901734104"
      ]
     },
     "execution_count": 25,
     "metadata": {},
     "output_type": "execute_result"
    }
   ],
   "source": [
    "svm_y_pred = grid_search.predict(X_test)\n",
    "\n",
    "accuracy_score(y_test, svm_y_pred)"
   ]
  },
  {
   "cell_type": "code",
   "execution_count": 26,
   "metadata": {
    "execution": {
     "iopub.execute_input": "2020-10-02T11:56:15.356902Z",
     "iopub.status.busy": "2020-10-02T11:56:15.356124Z",
     "iopub.status.idle": "2020-10-02T11:56:15.369904Z",
     "shell.execute_reply": "2020-10-02T11:56:15.369123Z"
    },
    "papermill": {
     "duration": 0.056674,
     "end_time": "2020-10-02T11:56:15.370031",
     "exception": false,
     "start_time": "2020-10-02T11:56:15.313357",
     "status": "completed"
    },
    "tags": []
   },
   "outputs": [
    {
     "data": {
      "text/plain": [
       "0.9054054054054054"
      ]
     },
     "execution_count": 26,
     "metadata": {},
     "output_type": "execute_result"
    }
   ],
   "source": [
    "svm_y_pred_train = grid_search.predict(X_train)\n",
    "\n",
    "accuracy_score(y_train, svm_y_pred_train)"
   ]
  },
  {
   "cell_type": "markdown",
   "metadata": {
    "papermill": {
     "duration": 0.037995,
     "end_time": "2020-10-02T11:56:15.446336",
     "exception": false,
     "start_time": "2020-10-02T11:56:15.408341",
     "status": "completed"
    },
    "tags": []
   },
   "source": [
    "### Accuracy of training test is a little bit higher, but it's clearly not overfit, so I guess tthe model did very good"
   ]
  },
  {
   "cell_type": "markdown",
   "metadata": {
    "papermill": {
     "duration": 0.038033,
     "end_time": "2020-10-02T11:56:15.522532",
     "exception": false,
     "start_time": "2020-10-02T11:56:15.484499",
     "status": "completed"
    },
    "tags": []
   },
   "source": [
    "#### Confusion Matrix"
   ]
  },
  {
   "cell_type": "code",
   "execution_count": 27,
   "metadata": {
    "execution": {
     "iopub.execute_input": "2020-10-02T11:56:15.612049Z",
     "iopub.status.busy": "2020-10-02T11:56:15.611083Z",
     "iopub.status.idle": "2020-10-02T11:56:15.616151Z",
     "shell.execute_reply": "2020-10-02T11:56:15.615444Z"
    },
    "papermill": {
     "duration": 0.055282,
     "end_time": "2020-10-02T11:56:15.616298",
     "exception": false,
     "start_time": "2020-10-02T11:56:15.561016",
     "status": "completed"
    },
    "tags": []
   },
   "outputs": [
    {
     "data": {
      "text/plain": [
       "array([[107,   3,  39,   7],\n",
       "       [  2,  22,   5,   0],\n",
       "       [ 14,   0, 465,   1],\n",
       "       [  6,   0,   5,  16]], dtype=int64)"
      ]
     },
     "execution_count": 27,
     "metadata": {},
     "output_type": "execute_result"
    }
   ],
   "source": [
    "confusion_matrix(y_test, svm_y_pred)"
   ]
  },
  {
   "cell_type": "code",
   "execution_count": 28,
   "metadata": {
    "execution": {
     "iopub.execute_input": "2020-10-02T11:56:15.728877Z",
     "iopub.status.busy": "2020-10-02T11:56:15.726535Z",
     "iopub.status.idle": "2020-10-02T11:56:15.735879Z",
     "shell.execute_reply": "2020-10-02T11:56:15.735092Z"
    },
    "papermill": {
     "duration": 0.080599,
     "end_time": "2020-10-02T11:56:15.736018",
     "exception": false,
     "start_time": "2020-10-02T11:56:15.655419",
     "status": "completed"
    },
    "tags": []
   },
   "outputs": [
    {
     "name": "stdout",
     "output_type": "stream",
     "text": [
      "              precision    recall  f1-score   support\n",
      "\n",
      "         acc       0.83      0.69      0.75       156\n",
      "        good       0.88      0.76      0.81        29\n",
      "       unacc       0.90      0.97      0.94       480\n",
      "       vgood       0.67      0.59      0.63        27\n",
      "\n",
      "    accuracy                           0.88       692\n",
      "   macro avg       0.82      0.75      0.78       692\n",
      "weighted avg       0.88      0.88      0.88       692\n",
      "\n"
     ]
    }
   ],
   "source": [
    "print(classification_report(y_test, svm_y_pred))"
   ]
  },
  {
   "cell_type": "code",
   "execution_count": null,
   "metadata": {
    "papermill": {
     "duration": 0.039198,
     "end_time": "2020-10-02T11:56:15.814840",
     "exception": false,
     "start_time": "2020-10-02T11:56:15.775642",
     "status": "completed"
    },
    "tags": []
   },
   "outputs": [],
   "source": []
  },
  {
   "cell_type": "code",
   "execution_count": null,
   "metadata": {},
   "outputs": [],
   "source": []
  },
  {
   "cell_type": "code",
   "execution_count": null,
   "metadata": {},
   "outputs": [],
   "source": []
  },
  {
   "cell_type": "code",
   "execution_count": null,
   "metadata": {},
   "outputs": [],
   "source": []
  },
  {
   "cell_type": "code",
   "execution_count": null,
   "metadata": {},
   "outputs": [],
   "source": []
  },
  {
   "cell_type": "code",
   "execution_count": null,
   "metadata": {},
   "outputs": [],
   "source": []
  },
  {
   "cell_type": "code",
   "execution_count": null,
   "metadata": {},
   "outputs": [],
   "source": []
  },
  {
   "cell_type": "code",
   "execution_count": null,
   "metadata": {},
   "outputs": [],
   "source": []
  },
  {
   "cell_type": "code",
   "execution_count": null,
   "metadata": {},
   "outputs": [],
   "source": []
  },
  {
   "cell_type": "code",
   "execution_count": null,
   "metadata": {},
   "outputs": [],
   "source": []
  },
  {
   "cell_type": "code",
   "execution_count": null,
   "metadata": {},
   "outputs": [],
   "source": []
  },
  {
   "cell_type": "code",
   "execution_count": null,
   "metadata": {},
   "outputs": [],
   "source": []
  },
  {
   "cell_type": "code",
   "execution_count": null,
   "metadata": {},
   "outputs": [],
   "source": []
  },
  {
   "cell_type": "code",
   "execution_count": null,
   "metadata": {},
   "outputs": [],
   "source": []
  }
 ],
 "metadata": {
  "kernelspec": {
   "display_name": "Python 3 (ipykernel)",
   "language": "python",
   "name": "python3"
  },
  "language_info": {
   "codemirror_mode": {
    "name": "ipython",
    "version": 3
   },
   "file_extension": ".py",
   "mimetype": "text/x-python",
   "name": "python",
   "nbconvert_exporter": "python",
   "pygments_lexer": "ipython3",
   "version": "3.9.7"
  },
  "papermill": {
   "duration": 23.794323,
   "end_time": "2020-10-02T11:56:15.962723",
   "environment_variables": {},
   "exception": null,
   "input_path": "__notebook__.ipynb",
   "output_path": "__notebook__.ipynb",
   "parameters": {},
   "start_time": "2020-10-02T11:55:52.168400",
   "version": "2.1.0"
  }
 },
 "nbformat": 4,
 "nbformat_minor": 4
}
